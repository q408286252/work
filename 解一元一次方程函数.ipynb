{
 "cells": [
  {
   "cell_type": "code",
   "execution_count": null,
   "metadata": {},
   "outputs": [],
   "source": [
    "#只能解一元一次方程  它把变量换算成虚数然后\n",
    "def solve(eq,variable='x'): #variable 变量\n",
    "  eq1 = eq.replace(\"=\",\"-(\") + \")\" #吧'=' 换成'-(' 字符尾部加')'\n",
    "  c = eval(eq1,{variable:1j})  #变量变为1单位虚数\n",
    "  return -c.real/c.imag  #-实数值/虚数值 = x值\n",
    "\n",
    "\n",
    "#!/usr/bin/env python3\n",
    "# -*- coding: utf-8 -*-\n",
    "import os\n",
    "\n",
    "def xiugaimulu():\n",
    "    mulu = 0\n",
    "    while True:\n",
    "        if mulu == False:\n",
    "            mulu = input('输入需要批量修改的目录:')\n",
    "        else:\n",
    "            print('重新开始')\n",
    "            shifouxiugai = input('已有目录是否修改? y/n:(q退出)')\n",
    "            if shifouxiugai == 'y':\n",
    "                mulu = input('输入需要批量修改的目录:')\n",
    "            elif shifouxiugai == 'q':\n",
    "                exit()  \n",
    "            elif shifouxiugai == 'n':\n",
    "                pass\n",
    "\n",
    "        muluwenjian = os.listdir(mulu)\n",
    "        mulu = mulu + '/'\n",
    "        xuanze = input('1.<替换> 用于批量删除 中间内容替换或添加;2.<添加>批量开头或末尾添加:')\n",
    "        if xuanze == '1':\n",
    "            beitihuanneirong = input('输入被替换的内容:')\n",
    "            tihuanneirong = input('输入替换内容:')\n",
    "            for i in muluwenjian:\n",
    "                ii = i\n",
    "                ii = ii.replace(beitihuanneirong,tihuanneirong) \n",
    "                os.rename(mulu + i,mulu + ii)\n",
    "            print('完成')\n",
    "        elif xuanze == '2':\n",
    "            kaitoumowei = input('1.请输入屎添加开头;2.添加末尾:')\n",
    "            if kaitoumowei == '1':\n",
    "                kaitou = input('添加开头内容输入:')\n",
    "                for i in muluwenjian:\n",
    "                    os.rename(mulu + i,mulu + kaitou + i)\n",
    "                print('完成')\n",
    "            elif kaitoumowei == '2':\n",
    "                mowei = input('添加末尾内容输入:')\n",
    "                for i in muluwenjian:\n",
    "                    ii = i\n",
    "                    ii = ii.split('.')\n",
    "                    ii.insert(1,mowei)\n",
    "                    ii.insert(2,'.')\n",
    "                    ii = ''.join(ii)\n",
    "                    os.rename(mulu + i,mulu + ii)\n",
    "                print('完成')\n",
    "            else:\n",
    "                print('输入错误重新开始')\n",
    "                contiue\n",
    "        elif xuanze == 'q':\n",
    "            exit()  \n",
    "        else:\n",
    "            print('输入错误重新开始')\n",
    "            contiue\n",
    "xiugaimulu()"
   ]
  },
  {
   "cell_type": "code",
   "execution_count": null,
   "metadata": {
    "collapsed": true
   },
   "outputs": [],
   "source": []
  }
 ],
 "metadata": {
  "kernelspec": {
   "display_name": "Python [conda root]",
   "language": "python",
   "name": "conda-root-py"
  },
  "language_info": {
   "codemirror_mode": {
    "name": "ipython",
    "version": 3
   },
   "file_extension": ".py",
   "mimetype": "text/x-python",
   "name": "python",
   "nbconvert_exporter": "python",
   "pygments_lexer": "ipython3",
   "version": "3.6.1"
  }
 },
 "nbformat": 4,
 "nbformat_minor": 2
}
